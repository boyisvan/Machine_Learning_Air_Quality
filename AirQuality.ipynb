{
 "cells": [
  {
   "cell_type": "code",
   "execution_count": null,
   "id": "a841b0bc-f5bc-4b98-8593-6925bcfcd9dd",
   "metadata": {},
   "outputs": [],
   "source": [
    "!pip install pandas numpy scikit-learn matplotlib seaborn keras\n",
    "!pip install tensorflow"
   ]
  },
  {
   "cell_type": "code",
   "execution_count": null,
   "id": "53065781-151b-416c-87af-fe4a95c06e9e",
   "metadata": {},
   "outputs": [],
   "source": [
    "# AirQuality_Prediction.ipynb\n",
    "\n",
    "# Import các thư viện cần thiết\n",
    "import pandas as pd\n",
    "import numpy as np\n",
    "from sklearn.model_selection import train_test_split\n",
    "from sklearn.ensemble import RandomForestClassifier\n",
    "from sklearn.preprocessing import LabelEncoder, StandardScaler\n",
    "from sklearn.metrics import classification_report, confusion_matrix\n",
    "import matplotlib.pyplot as plt\n",
    "import seaborn as sns\n",
    "from keras.models import Sequential\n",
    "from keras.layers import Dense\n",
    "\n",
    "# Bước 1: Đọc dữ liệu\n",
    "data = pd.read_csv('AirQualityUCL.csv', delimiter='\\t')  # Điều chỉnh delimiter nếu cần\n"
   ]
  },
  {
   "cell_type": "code",
   "execution_count": null,
   "id": "99b6133d-db14-424d-a875-f14742625e2c",
   "metadata": {},
   "outputs": [],
   "source": []
  }
 ],
 "metadata": {
  "kernelspec": {
   "display_name": "Python 3 (ipykernel)",
   "language": "python",
   "name": "python3"
  },
  "language_info": {
   "codemirror_mode": {
    "name": "ipython",
    "version": 3
   },
   "file_extension": ".py",
   "mimetype": "text/x-python",
   "name": "python",
   "nbconvert_exporter": "python",
   "pygments_lexer": "ipython3",
   "version": "3.11.9"
  }
 },
 "nbformat": 4,
 "nbformat_minor": 5
}
